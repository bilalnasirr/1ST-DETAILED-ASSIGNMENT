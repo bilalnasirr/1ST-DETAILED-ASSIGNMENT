{
 "cells": [
  {
   "cell_type": "code",
   "execution_count": 5,
   "metadata": {},
   "outputs": [
    {
     "name": "stdout",
     "output_type": "stream",
     "text": [
      "7\n"
     ]
    }
   ],
   "source": [
    "#Exercise 3.17:\n",
    "#A\n",
    "i=eval('2*3+1')\n",
    "print(i)"
   ]
  },
  {
   "cell_type": "code",
   "execution_count": 27,
   "metadata": {},
   "outputs": [
    {
     "ename": "NameError",
     "evalue": "name 'hello' is not defined",
     "output_type": "error",
     "traceback": [
      "\u001b[1;31m---------------------------------------------------------------------------\u001b[0m",
      "\u001b[1;31mNameError\u001b[0m                                 Traceback (most recent call last)",
      "\u001b[1;32m<ipython-input-27-4374d82a780c>\u001b[0m in \u001b[0;36m<module>\u001b[1;34m()\u001b[0m\n\u001b[0;32m      1\u001b[0m \u001b[1;31m#b\u001b[0m\u001b[1;33m\u001b[0m\u001b[1;33m\u001b[0m\u001b[0m\n\u001b[1;32m----> 2\u001b[1;33m \u001b[0ms\u001b[0m\u001b[1;33m=\u001b[0m\u001b[0meval\u001b[0m\u001b[1;33m(\u001b[0m\u001b[1;34m'hello'\u001b[0m\u001b[1;33m)\u001b[0m\u001b[1;33m\u001b[0m\u001b[0m\n\u001b[0m\u001b[0;32m      3\u001b[0m \u001b[1;31m#we used double quotations to input hello with single quotation\u001b[0m\u001b[1;33m\u001b[0m\u001b[1;33m\u001b[0m\u001b[0m\n\u001b[0;32m      4\u001b[0m \u001b[0mprint\u001b[0m\u001b[1;33m(\u001b[0m\u001b[0ms\u001b[0m\u001b[1;33m)\u001b[0m\u001b[1;33m\u001b[0m\u001b[0m\n",
      "\u001b[1;32m<string>\u001b[0m in \u001b[0;36m<module>\u001b[1;34m()\u001b[0m\n",
      "\u001b[1;31mNameError\u001b[0m: name 'hello' is not defined"
     ]
    }
   ],
   "source": [
    "#b\n",
    "s=eval('hello')\n",
    "#we used double quotations to input hello with single quotation\n",
    "print(s)"
   ]
  },
  {
   "cell_type": "code",
   "execution_count": 21,
   "metadata": {},
   "outputs": [
    {
     "name": "stdout",
     "output_type": "stream",
     "text": [
      "hello world!\n"
     ]
    }
   ],
   "source": [
    "#c\n",
    "s=eval(\"'hello' + ' ' + 'world!'\")\n",
    "print(s)"
   ]
  },
  {
   "cell_type": "code",
   "execution_count": 22,
   "metadata": {},
   "outputs": [
    {
     "name": "stdout",
     "output_type": "stream",
     "text": [
      "2\n"
     ]
    }
   ],
   "source": [
    "#d\n",
    "s=eval(\"'ASCII'.count('I')\")\n",
    "print(s)"
   ]
  },
  {
   "cell_type": "code",
   "execution_count": 26,
   "metadata": {},
   "outputs": [
    {
     "ename": "SyntaxError",
     "evalue": "invalid syntax (<string>, line 1)",
     "output_type": "error",
     "traceback": [
      "Traceback \u001b[1;36m(most recent call last)\u001b[0m:\n",
      "  File \u001b[0;32m\"D:\\BILAL\\New folder (2)\\lib\\site-packages\\IPython\\core\\interactiveshell.py\"\u001b[0m, line \u001b[0;32m2961\u001b[0m, in \u001b[0;35mrun_code\u001b[0m\n    exec(code_obj, self.user_global_ns, self.user_ns)\n",
      "\u001b[1;36m  File \u001b[1;32m\"<ipython-input-26-1723aa505fd7>\"\u001b[1;36m, line \u001b[1;32m2\u001b[1;36m, in \u001b[1;35m<module>\u001b[1;36m\u001b[0m\n\u001b[1;33m    s=eval('x = 5')\u001b[0m\n",
      "\u001b[1;36m  File \u001b[1;32m\"<string>\"\u001b[1;36m, line \u001b[1;32m1\u001b[0m\n\u001b[1;33m    x = 5\u001b[0m\n\u001b[1;37m      ^\u001b[0m\n\u001b[1;31mSyntaxError\u001b[0m\u001b[1;31m:\u001b[0m invalid syntax\n"
     ]
    }
   ],
   "source": [
    "#e\n",
    "s=eval('x = 5')\n",
    "print(s)"
   ]
  },
  {
   "cell_type": "code",
   "execution_count": 29,
   "metadata": {},
   "outputs": [
    {
     "name": "stdout",
     "output_type": "stream",
     "text": [
      "x = 5\n"
     ]
    }
   ],
   "source": [
    "#e\n",
    "s=eval(\"'x = 5'\")\n",
    "print(s)"
   ]
  },
  {
   "cell_type": "code",
   "execution_count": null,
   "metadata": {},
   "outputs": [],
   "source": [
    "\"\"\"There is error in b part cause the word hello is not written in double quotations. is we write it as eval(\"'hello'\") \n",
    "the code will execute correctly.\n",
    "The next error is in part e because again the string is not written in double quotations. Until the string is not written in\n",
    "double quotations python wont execute it.\"\"\""
   ]
  },
  {
   "cell_type": "code",
   "execution_count": 33,
   "metadata": {},
   "outputs": [
    {
     "name": "stdout",
     "output_type": "stream",
     "text": [
      "OK\n",
      "OK\n"
     ]
    }
   ],
   "source": [
    "#3.18\n",
    "a,b,c=3,4,5\n",
    "#a\n",
    "if a<b:\n",
    "    print(\"OK\")\n",
    "#b\n",
    "if c<b:\n",
    "    print(\"OK\")\n",
    "#c\n",
    "if a+b==c:\n",
    "    print(\"OK\")\n",
    "#d \n",
    "if (a**2)+(b**2)==(c**2):\n",
    "    print(\"OK\")"
   ]
  },
  {
   "cell_type": "code",
   "execution_count": 34,
   "metadata": {},
   "outputs": [
    {
     "name": "stdout",
     "output_type": "stream",
     "text": [
      "OK\n",
      "Not Ok\n",
      "Not Ok\n",
      "OK\n"
     ]
    }
   ],
   "source": [
    "#3.19\n",
    "a,b,c=3,4,5\n",
    "#a\n",
    "if a<b:\n",
    "    print(\"OK\")\n",
    "else:\n",
    "    print(\"Not Ok\")\n",
    "#b\n",
    "if c<b:\n",
    "    print(\"OK\")\n",
    "else:\n",
    "    print(\"Not Ok\")\n",
    "#c\n",
    "if a+b==c:\n",
    "    print(\"OK\")\n",
    "else:\n",
    "    print(\"Not Ok\")\n",
    "#d \n",
    "if (a**2)+(b**2)==(c**2):\n",
    "    print(\"OK\")\n",
    "else:\n",
    "    print(\"Not Ok\")"
   ]
  },
  {
   "cell_type": "code",
   "execution_count": 49,
   "metadata": {},
   "outputs": [
    {
     "name": "stdout",
     "output_type": "stream",
     "text": [
      "Jan\n",
      "Feb\n",
      "Mar\n"
     ]
    }
   ],
   "source": [
    "#3.20\n",
    "lst=['January', 'February', 'March']\n",
    "for x in lst:\n",
    "    print(x[:3])"
   ]
  },
  {
   "cell_type": "code",
   "execution_count": 52,
   "metadata": {},
   "outputs": [
    {
     "name": "stdout",
     "output_type": "stream",
     "text": [
      "2\n",
      "4\n",
      "6\n",
      "8\n"
     ]
    }
   ],
   "source": [
    "#3.21:\n",
    "lst=[2, 3, 4, 5, 6, 7, 8, 9]\n",
    "for x in lst:\n",
    "    if x%2==0:\n",
    "        print(x)"
   ]
  },
  {
   "cell_type": "code",
   "execution_count": 54,
   "metadata": {},
   "outputs": [
    {
     "name": "stdout",
     "output_type": "stream",
     "text": [
      "4\n",
      "8\n"
     ]
    }
   ],
   "source": [
    "#3.22:\n",
    "lst=[2, 3, 4, 5, 6, 7, 8, 9]\n",
    "for x in lst:\n",
    "    if (x**2)%8==0:\n",
    "        print(x)"
   ]
  },
  {
   "cell_type": "code",
   "execution_count": 57,
   "metadata": {},
   "outputs": [
    {
     "name": "stdout",
     "output_type": "stream",
     "text": [
      "0\n",
      "1\n"
     ]
    }
   ],
   "source": [
    "#3.23:\n",
    "#a\n",
    "for num in range(2):\n",
    "    print(num)"
   ]
  },
  {
   "cell_type": "code",
   "execution_count": 58,
   "metadata": {},
   "outputs": [
    {
     "name": "stdout",
     "output_type": "stream",
     "text": [
      "0\n"
     ]
    }
   ],
   "source": [
    "#b\n",
    "for num in range(1):\n",
    "    print(num)"
   ]
  },
  {
   "cell_type": "code",
   "execution_count": 59,
   "metadata": {},
   "outputs": [
    {
     "name": "stdout",
     "output_type": "stream",
     "text": [
      "3\n",
      "4\n",
      "5\n",
      "6\n"
     ]
    }
   ],
   "source": [
    "#c\n",
    "for num in range(3,7):\n",
    "    print(num)"
   ]
  },
  {
   "cell_type": "code",
   "execution_count": 62,
   "metadata": {},
   "outputs": [
    {
     "name": "stdout",
     "output_type": "stream",
     "text": [
      "1\n"
     ]
    }
   ],
   "source": [
    "#d\n",
    "for num in range(1,2):\n",
    "    print(num)"
   ]
  },
  {
   "cell_type": "code",
   "execution_count": 68,
   "metadata": {},
   "outputs": [
    {
     "name": "stdout",
     "output_type": "stream",
     "text": [
      "0\n",
      "3\n"
     ]
    }
   ],
   "source": [
    "#e\n",
    "for num in range(0,4,3):\n",
    "    print(num)"
   ]
  },
  {
   "cell_type": "code",
   "execution_count": 72,
   "metadata": {},
   "outputs": [
    {
     "name": "stdout",
     "output_type": "stream",
     "text": [
      "5\n",
      "9\n",
      "13\n",
      "17\n",
      "21\n"
     ]
    }
   ],
   "source": [
    "#f\n",
    "for num in range(5,22,4):\n",
    "    print(num)"
   ]
  },
  {
   "cell_type": "code",
   "execution_count": 1,
   "metadata": {},
   "outputs": [
    {
     "name": "stdout",
     "output_type": "stream",
     "text": [
      "Enter the list: ['cia', 'secret', 'mi6', 'isi', 'secret']\n",
      "cia\n",
      "mi6\n",
      "isi\n"
     ]
    }
   ],
   "source": [
    "#PROBLEM 3.24:\n",
    "lst=eval(input(\"Enter the list: \"))\n",
    "for x in lst:\n",
    "    if x!= 'secret' :\n",
    "        print(x)"
   ]
  },
  {
   "cell_type": "code",
   "execution_count": 10,
   "metadata": {},
   "outputs": [
    {
     "name": "stdout",
     "output_type": "stream",
     "text": [
      "Enter the list of student's names: ['Ellie', 'Steve', 'Sam', 'Owen', 'Gavin']\n",
      "Ellie\n",
      "Gavin\n"
     ]
    }
   ],
   "source": [
    "#3.25:\n",
    "lst=eval(input(\"Enter the list of student's names: \"))\n",
    "for x in lst:\n",
    "    if x[0] in 'abcdefghijklmABCDEFGHIJKLM' :\n",
    "        print(x)"
   ]
  },
  {
   "cell_type": "code",
   "execution_count": 3,
   "metadata": {},
   "outputs": [
    {
     "name": "stdout",
     "output_type": "stream",
     "text": [
      "Enter the list[1, 2, 3, 4, 5, 6, 7]\n",
      "The first element is 1\n",
      "The last element is 7\n"
     ]
    }
   ],
   "source": [
    "#3.26\n",
    "lst=eval(input(\"Enter the list\"))\n",
    "print(\"The first element is\",lst[0])\n",
    "print(\"The last element is\",lst[-1])"
   ]
  },
  {
   "cell_type": "code",
   "execution_count": 9,
   "metadata": {},
   "outputs": [
    {
     "name": "stdout",
     "output_type": "stream",
     "text": [
      "Enter any positive integer: 5\n",
      "0 \n",
      " 5 \n",
      " 10 \n",
      " 15\n"
     ]
    }
   ],
   "source": [
    "#3.27\n",
    "n=eval(input(\"Enter any positive integer: \"))\n",
    "print(n*0,'\\n',n*1,'\\n',n*2,'\\n',n*3)"
   ]
  },
  {
   "cell_type": "code",
   "execution_count": 114,
   "metadata": {},
   "outputs": [
    {
     "name": "stdout",
     "output_type": "stream",
     "text": [
      "Enter any integer: 3\n",
      "0\n",
      "1\n",
      "4\n"
     ]
    }
   ],
   "source": [
    "#3.28\n",
    "n=int(input(\"Enter any integer: \"))\n",
    "for x in range(n):\n",
    "    y=x**2\n",
    "    if y<n**2:\n",
    "        print(y)"
   ]
  },
  {
   "cell_type": "code",
   "execution_count": 21,
   "metadata": {},
   "outputs": [
    {
     "name": "stdout",
     "output_type": "stream",
     "text": [
      "Enter any integer: 49\n",
      "1\n",
      "7\n",
      "49\n"
     ]
    }
   ],
   "source": [
    "#3.29:\n",
    "n=int(input(\"Enter any integer: \"))\n",
    "for x in range(1,n+1):\n",
    "    if n%x == 0:\n",
    "        print(x)"
   ]
  },
  {
   "cell_type": "code",
   "execution_count": 16,
   "metadata": {},
   "outputs": [
    {
     "name": "stdout",
     "output_type": "stream",
     "text": [
      "Input first number: 4.5\n",
      "Input second number: 3\n",
      "Input third number: 3\n",
      "Input last number: 3.5\n",
      "Equal\n"
     ]
    }
   ],
   "source": [
    "#3.30:\n",
    "a=eval(input(\"Input first number: \"))\n",
    "b=eval(input(\"Input second number: \"))\n",
    "c=eval(input(\"Input third number: \"))\n",
    "d=str(input(\"Input last number: \"))\n",
    "#for average of first 3 numbers\n",
    "avg3=str((a+b+c)/3)\n",
    "#Comparison with fourth\n",
    "#for tavg in avg3:\n",
    "if avg3==d:\n",
    "    print(\"Equal\")"
   ]
  },
  {
   "cell_type": "code",
   "execution_count": 27,
   "metadata": {},
   "outputs": [
    {
     "name": "stdout",
     "output_type": "stream",
     "text": [
      "Enter x coordinate: 2.5\n",
      "Enter y coordinate: 4\n",
      "IT IS IN!\n"
     ]
    }
   ],
   "source": [
    "#3.31: \n",
    "x=float(input(\"Enter x coordinate: \"))\n",
    "y=float(input(\"Enter y coordinate: \"))\n",
    "#The equation of circle at origin is x**2+y**2=r**2\n",
    "eq=float((0**2)+(0**2)==(8**2))\n",
    "#print(eq)\n",
    "eq2=float((x**2)+(y**2)==(8**2))\n",
    "if eq<=eq2:\n",
    "    print(\"IT IS IN!\")"
   ]
  },
  {
   "cell_type": "code",
   "execution_count": 66,
   "metadata": {},
   "outputs": [
    {
     "name": "stdout",
     "output_type": "stream",
     "text": [
      "Enter a four digit integer: 1234\n",
      "1\n",
      "2\n",
      "3\n",
      "4\n"
     ]
    }
   ],
   "source": [
    "#3.32:\n",
    "x=int(input(\"Enter a four digit integer: \"))\n",
    "#x=int(1234)\n",
    "a=x//1000\n",
    "print(a)\n",
    "b=(x//100) - (a*10)\n",
    "print(b)\n",
    "c=(x//10) - ((x//100)*10)\n",
    "print(c)\n",
    "d=x- ((x//10)*10)\n",
    "print(d)\n"
   ]
  },
  {
   "cell_type": "code",
   "execution_count": 72,
   "metadata": {},
   "outputs": [
    {
     "name": "stdout",
     "output_type": "stream",
     "text": [
      "Enter a three letter word: UIT\n"
     ]
    }
   ],
   "source": [
    "#3.33:\n",
    "x=str(input(\"Enter a three letter word: \"))\n",
    "#print(x[::-1])\n",
    "def reverse_string(x):\n",
    "    #for rev in x:\n",
    "     #   rev= (x[::-1])\n",
    "    return x[::-1]"
   ]
  },
  {
   "cell_type": "code",
   "execution_count": 73,
   "metadata": {},
   "outputs": [
    {
     "data": {
      "text/plain": [
       "'TIU'"
      ]
     },
     "execution_count": 73,
     "metadata": {},
     "output_type": "execute_result"
    }
   ],
   "source": [
    ">>> reverse_string(x)"
   ]
  },
  {
   "cell_type": "code",
   "execution_count": 79,
   "metadata": {},
   "outputs": [
    {
     "name": "stdout",
     "output_type": "stream",
     "text": [
      "Enter the number of hours: 50\n",
      "Enter the hourly wage: 2\n"
     ]
    }
   ],
   "source": [
    "#3.34:\n",
    "noh=int(input(\"Enter the number of hours: \"))\n",
    "hwage=int(input(\"Enter the hourly wage: \"))\n",
    "def pay(noh, hwage):\n",
    "#    for x in pay:\n",
    "    if noh<40:\n",
    "        print(\"Pay is\",noh*hwage)\n",
    "    if noh>=40:\n",
    "        print(\"Pay is\",(noh*1.5)*hwage)"
   ]
  },
  {
   "cell_type": "code",
   "execution_count": 80,
   "metadata": {},
   "outputs": [
    {
     "name": "stdout",
     "output_type": "stream",
     "text": [
      "Pay is 150.0\n"
     ]
    }
   ],
   "source": [
    ">>> pay(noh, hwage)"
   ]
  },
  {
   "cell_type": "code",
   "execution_count": 78,
   "metadata": {},
   "outputs": [
    {
     "name": "stdout",
     "output_type": "stream",
     "text": [
      "Pay is 60\n"
     ]
    }
   ],
   "source": [
    ">>> pay(30, 2)"
   ]
  },
  {
   "cell_type": "code",
   "execution_count": 117,
   "metadata": {},
   "outputs": [
    {
     "name": "stdout",
     "output_type": "stream",
     "text": [
      "Enter the number of flips of coin: 2\n"
     ]
    }
   ],
   "source": [
    "# 3.35:\n",
    "n=int(input(\"Enter the number of flips of coin: \"))\n",
    "#For probability of n heads in a row\n",
    "def prob(n):\n",
    "    a=2**(-n)\n",
    "    return a"
   ]
  },
  {
   "cell_type": "code",
   "execution_count": 112,
   "metadata": {},
   "outputs": [
    {
     "data": {
      "text/plain": [
       "0.5"
      ]
     },
     "execution_count": 112,
     "metadata": {},
     "output_type": "execute_result"
    }
   ],
   "source": [
    ">>> prob(1)"
   ]
  },
  {
   "cell_type": "code",
   "execution_count": 118,
   "metadata": {},
   "outputs": [
    {
     "data": {
      "text/plain": [
       "0.25"
      ]
     },
     "execution_count": 118,
     "metadata": {},
     "output_type": "execute_result"
    }
   ],
   "source": [
    ">>> prob(n)"
   ]
  },
  {
   "cell_type": "code",
   "execution_count": 126,
   "metadata": {},
   "outputs": [
    {
     "name": "stdout",
     "output_type": "stream",
     "text": [
      "Enter three digit integer: 123\n"
     ]
    }
   ],
   "source": [
    "#3.36:\n",
    "x=int(input(\"Enter three digit integer: \"))\n",
    "def reverse_int(x):\n",
    "    a=x%10\n",
    "    b=(x%100 - x%10)//10\n",
    "    c=x//100\n",
    "    print(a,b,c)"
   ]
  },
  {
   "cell_type": "code",
   "execution_count": 127,
   "metadata": {},
   "outputs": [
    {
     "name": "stdout",
     "output_type": "stream",
     "text": [
      "3 2 1\n"
     ]
    }
   ],
   "source": [
    ">>> reverse_int(x)"
   ]
  },
  {
   "cell_type": "code",
   "execution_count": 109,
   "metadata": {},
   "outputs": [
    {
     "name": "stdout",
     "output_type": "stream",
     "text": [
      "Enter x1 coordinate: 0\n",
      "Enter y1 coordinate: 0\n",
      "Enter x2 coordinate: 1\n",
      "Enter y2 coordinate: 1\n"
     ]
    }
   ],
   "source": [
    "#3.37:\n",
    "x1=eval(input(\"Enter x1 coordinate: \"))\n",
    "y1=eval(input(\"Enter y1 coordinate: \"))\n",
    "x2=eval(input(\"Enter x2 coordinate: \"))\n",
    "y2=eval(input(\"Enter y2 coordinate: \"))\n",
    "xx=(x2-x1)\n",
    "yy=(y2-y1)\n",
    "def points(x1,y1,x2,y2):\n",
    "    if yy!=0:\n",
    "        s=float(yy/xx)\n",
    "        print(\"The slope is\",s,\"and the distance is\",distance)\n",
    "    #else:\n",
    "       # s=\"Infinity\"\n",
    "        #print(\"The slope is infinity and the distance is\",distance)\n",
    "import math\n",
    "sq1 = (x1-x2)*(x1-x2)\n",
    "sq2 = (y1-y2)*(y1-y2)\n",
    "distance = math.sqrt(sq1 + sq2)"
   ]
  },
  {
   "cell_type": "code",
   "execution_count": 110,
   "metadata": {},
   "outputs": [
    {
     "name": "stdout",
     "output_type": "stream",
     "text": [
      "The slope is 1.0 and the distance is 1.4142135623730951\n"
     ]
    }
   ],
   "source": [
    ">>> points(x1,y1,x2,y2)"
   ]
  },
  {
   "cell_type": "code",
   "execution_count": 128,
   "metadata": {},
   "outputs": [
    {
     "name": "stdout",
     "output_type": "stream",
     "text": [
      "Enter the name of the day: Tuesday\n"
     ]
    }
   ],
   "source": [
    "#3.38:\n",
    "day=input(\"Enter the name of the day: \")\n",
    "def abbreviation(day):\n",
    "    return day[:2]"
   ]
  },
  {
   "cell_type": "code",
   "execution_count": 129,
   "metadata": {},
   "outputs": [
    {
     "data": {
      "text/plain": [
       "'Tu'"
      ]
     },
     "execution_count": 129,
     "metadata": {},
     "output_type": "execute_result"
    }
   ],
   "source": [
    ">>> abbreviation(day)"
   ]
  },
  {
   "cell_type": "code",
   "execution_count": 38,
   "metadata": {},
   "outputs": [
    {
     "name": "stdout",
     "output_type": "stream",
     "text": [
      "Enter the x-coordinate of first circle: 0\n",
      "Enter the y-coordinate of first circle: 0\n",
      "Enter the radius of the first circle: 1.4\n",
      "Enter the x-coordinate of second circle: 2\n",
      "Enter the y-coordinate of second circle: 2\n",
      "Enter the radius of the second circle: 1.4\n"
     ]
    }
   ],
   "source": [
    "#3.39\n",
    "#for circle 1:\n",
    "import math\n",
    "x1=float(input(\"Enter the x-coordinate of first circle: \"))\n",
    "y1=float(input(\"Enter the y-coordinate of first circle: \"))\n",
    "r1=float(input(\"Enter the radius of the first circle: \"))\n",
    "x2=float(input(\"Enter the x-coordinate of second circle: \"))\n",
    "y2=float(input(\"Enter the y-coordinate of second circle: \"))\n",
    "r2=float(input(\"Enter the radius of the second circle: \"))\n",
    "radius_sum=r1+r2\n",
    "radius_diff=r1-r2\n",
    "centre_dis=math.sqrt((x1-x2)**2)+((y1-y2)**2)\n",
    "def collision(x1,y1,r1,x2,y2,r2):\n",
    "    if centre_dis>=radius_diff and centre_dis<=radius_sum:\n",
    "        print(\"True\")\n",
    "    else:\n",
    "        print(\"False\")"
   ]
  },
  {
   "cell_type": "code",
   "execution_count": 39,
   "metadata": {},
   "outputs": [
    {
     "name": "stdout",
     "output_type": "stream",
     "text": [
      "False\n"
     ]
    }
   ],
   "source": [
    ">>> collision(x1,y1,r1,x2,y2,r2)"
   ]
  },
  {
   "cell_type": "code",
   "execution_count": 50,
   "metadata": {},
   "outputs": [
    {
     "name": "stdout",
     "output_type": "stream",
     "text": [
      "Enter the names in the form of lists:['Eleanor', 'Evelyn', 'Sammy', 'Owen', 'Gavin']\n"
     ]
    }
   ],
   "source": [
    "#3.40:\n",
    "#names=['Eleanor', 'Evelyn', 'Sammy', 'Owen', 'Gavin']\n",
    "names=eval(input(\"Enter the names in the form of lists:\"))\n",
    "def partition(names):\n",
    "    for name in names:\n",
    "        if name[0] in 'abcdefghijklmABCDEFGHIJKLM':\n",
    "            print(name)"
   ]
  },
  {
   "cell_type": "code",
   "execution_count": 51,
   "metadata": {},
   "outputs": [
    {
     "name": "stdout",
     "output_type": "stream",
     "text": [
      "Eleanor\n",
      "Evelyn\n",
      "Gavin\n"
     ]
    }
   ],
   "source": [
    ">>> partition(names)"
   ]
  },
  {
   "cell_type": "code",
   "execution_count": 76,
   "metadata": {},
   "outputs": [
    {
     "name": "stdout",
     "output_type": "stream",
     "text": [
      "Enter the first name: Bilal\n",
      "Enter the last name :Nasir\n"
     ]
    }
   ],
   "source": [
    "#3.41:\n",
    "fn=str(input(\"Enter the first name: \"))\n",
    "ln=str(input(\"Enter the last name :\"))\n",
    "def lastF(fn,ln):\n",
    "    print(ln,\",\",fn[0],\".\")"
   ]
  },
  {
   "cell_type": "code",
   "execution_count": 77,
   "metadata": {},
   "outputs": [
    {
     "name": "stdout",
     "output_type": "stream",
     "text": [
      "Nasir , B .\n"
     ]
    }
   ],
   "source": [
    ">>> lastF(fn,ln)"
   ]
  },
  {
   "cell_type": "code",
   "execution_count": 78,
   "metadata": {},
   "outputs": [
    {
     "name": "stdout",
     "output_type": "stream",
     "text": [
      "Enter the marks of first student[95, 92, 86, 87]\n",
      "Enter the marks of second student[66, 54]\n",
      "Enter the marks of third student[89, 72, 100]\n",
      "Enter the marks of fourth student[33, 0, 0]\n"
     ]
    }
   ],
   "source": [
    "#3.42:\n",
    "s1=eval(input(\"Enter the marks of first student\"))\n",
    "s2=eval(input(\"Enter the marks of second student\"))\n",
    "s3=eval(input(\"Enter the marks of third student\"))\n",
    "s4=eval(input(\"Enter the marks of fourth student\"))\n",
    "def avg(s1,s2,s3,s4):\n",
    "    a=sum(s1)/float(len(s1))\n",
    "    print(a)\n",
    "    b=sum(s2)/float(len(s2))\n",
    "    print(b)\n",
    "    c=sum(s3)/float(len(s3))\n",
    "    print(c)\n",
    "    d=sum(s4)/float(len(s4))\n",
    "    print(d) "
   ]
  },
  {
   "cell_type": "code",
   "execution_count": 79,
   "metadata": {},
   "outputs": [
    {
     "name": "stdout",
     "output_type": "stream",
     "text": [
      "90.0\n",
      "60.0\n",
      "87.0\n",
      "11.0\n"
     ]
    }
   ],
   "source": [
    ">>> avg(s1,s2,s3,s4)"
   ]
  },
  {
   "cell_type": "code",
   "execution_count": 104,
   "metadata": {},
   "outputs": [
    {
     "name": "stdout",
     "output_type": "stream",
     "text": [
      "Enter first x coordinate: 0\n",
      "Enter first y coordinate: 0\n",
      "Enter radius: 3\n",
      "Enter second x coordinate: 3\n",
      "Enter second y coordinate: 0\n"
     ]
    }
   ],
   "source": [
    "#3.43:\n",
    "x1=eval(input(\"Enter first x coordinate: \"))\n",
    "y1=eval(input(\"Enter first y coordinate: \"))\n",
    "r=eval(input(\"Enter radius: \"))\n",
    "x2=eval(input(\"Enter second x coordinate: \"))\n",
    "y2=eval(input(\"Enter second y coordinate: \"))\n",
    "def hit(x1,y1,r,x2,y2):\n",
    "    import math\n",
    "    dist=math.sqrt(((x1-x2)**2)+((y1-y2)**2))\n",
    "    if dist<=r:\n",
    "        print(\"True\")\n",
    "    else:\n",
    "        print(\"False\")"
   ]
  },
  {
   "cell_type": "code",
   "execution_count": 105,
   "metadata": {},
   "outputs": [
    {
     "name": "stdout",
     "output_type": "stream",
     "text": [
      "True\n"
     ]
    }
   ],
   "source": [
    ">>> hit(x1,y1,r,x2,y2)"
   ]
  },
  {
   "cell_type": "code",
   "execution_count": 98,
   "metadata": {},
   "outputs": [
    {
     "name": "stdout",
     "output_type": "stream",
     "text": [
      "Enter the number: 3\n"
     ]
    }
   ],
   "source": [
    "#3.44:\n",
    "d=float(input(\"Enter the number: \"))\n",
    "def distance(d):\n",
    "    dist=0.34029*d\n",
    "    print(\"Distance is \",dist)"
   ]
  },
  {
   "cell_type": "code",
   "execution_count": 99,
   "metadata": {},
   "outputs": [
    {
     "name": "stdout",
     "output_type": "stream",
     "text": [
      "Distance is  1.02087\n"
     ]
    }
   ],
   "source": [
    ">>> distance(d)"
   ]
  },
  {
   "cell_type": "code",
   "execution_count": null,
   "metadata": {},
   "outputs": [],
   "source": []
  }
 ],
 "metadata": {
  "kernelspec": {
   "display_name": "Python 3",
   "language": "python",
   "name": "python3"
  },
  "language_info": {
   "codemirror_mode": {
    "name": "ipython",
    "version": 3
   },
   "file_extension": ".py",
   "mimetype": "text/x-python",
   "name": "python",
   "nbconvert_exporter": "python",
   "pygments_lexer": "ipython3",
   "version": "3.7.0"
  }
 },
 "nbformat": 4,
 "nbformat_minor": 2
}
